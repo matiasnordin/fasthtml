{
 "cells": [
  {
   "cell_type": "code",
   "execution_count": 2,
   "id": "b73068da",
   "metadata": {},
   "outputs": [],
   "source": [
    "#| default_exp cli"
   ]
  },
  {
   "cell_type": "markdown",
   "id": "27a7e6e2",
   "metadata": {},
   "source": [
    "# Command Line Tools"
   ]
  },
  {
   "cell_type": "code",
   "execution_count": 3,
   "id": "acfbc502",
   "metadata": {},
   "outputs": [],
   "source": [
    "#| export\n",
    "from fastcore.utils import *\n",
    "from fastcore.script import call_parse, bool_arg\n",
    "from subprocess import check_output, run\n",
    "import sys\n",
    "import uvicorn\n",
    "from pprint import pprint\n",
    "import json\n",
    "import toml"
   ]
  },
  {
   "cell_type": "code",
   "execution_count": 4,
   "id": "11d71cfc",
   "metadata": {},
   "outputs": [],
   "source": [
    "#| export\n",
    "@call_parse\n",
    "def railway_link():\n",
    "    \"Link the current directory to the current project's Railway service\"\n",
    "    j = json.loads(check_output(\"railway status --json\".split()))\n",
    "    prj = j['id']\n",
    "    idxpath = 'edges', 0, 'node', 'id'\n",
    "    env = nested_idx(j, 'environments', *idxpath)\n",
    "    svc = nested_idx(j, 'services', *idxpath)\n",
    "\n",
    "    cmd = f\"railway link -e {env} -p {prj} -s {svc}\"\n",
    "    res = check_output(cmd.split())"
   ]
  },
  {
   "cell_type": "code",
   "execution_count": 5,
   "id": "586830f6",
   "metadata": {},
   "outputs": [],
   "source": [
    "#| export\n",
    "def _run(a, **kw):\n",
    "    print('#', ' '.join(a))\n",
    "    run(a)"
   ]
  },
  {
   "cell_type": "code",
   "execution_count": 6,
   "id": "b84fd5ff",
   "metadata": {},
   "outputs": [],
   "source": [
    "#| export\n",
    "@call_parse\n",
    "def railway_deploy(\n",
    "    name:str, # The project name to deploy\n",
    "    mount:bool_arg=True # Create a mounted volume at /app/data?\n",
    "):\n",
    "    \"\"\"Deploy a FastHTML app to Railway\"\"\"\n",
    "    nm,ver = check_output(\"railway --version\".split()).decode().split()\n",
    "    assert nm=='railwayapp', f'Unexpected railway version string: {nm}'\n",
    "    if ver2tuple(ver)<(3,8): return print(\"Please update your railway CLI version to 3.8 or higher\")\n",
    "    cp = run(\"railway status --json\".split(), capture_output=True)\n",
    "    if not cp.returncode:\n",
    "        print(\"Checking deployed projects...\")\n",
    "        project_name = json.loads(cp.stdout.decode()).get('name')\n",
    "        if project_name == name: return print(\"This project is already deployed. Run `railway open`.\")\n",
    "    reqs = Path('requirements.txt')\n",
    "    if not reqs.exists(): reqs.write_text('python-fasthtml')\n",
    "    _run(f\"railway init -n {name}\".split())\n",
    "    _run(f\"railway up -c\".split())\n",
    "    _run(f\"railway domain\".split())\n",
    "    railway_link.__wrapped__()\n",
    "    if mount: _run(f\"railway volume add -m /app/data\".split())\n",
    "    _run(f\"railway up -c\".split())"
   ]
  },
  {
   "cell_type": "code",
   "execution_count": 7,
   "id": "c5aadee8",
   "metadata": {},
   "outputs": [],
   "source": [
    "#| export\n",
    "def default_cfg():\n",
    "    return \"\"\"\n",
    "app='app'\n",
    "\n",
    "[dev]  # A dev stage\n",
    "host='0.0.0.0'\n",
    "port=5001\n",
    "reload=true\n",
    "\n",
    "# reload_includes=[]  # Additional files to watch for changes\n",
    "# reload_excludes=[]  # Files to ignore for changes\n",
    "\n",
    "# Add scripts to be run\n",
    "# scripts = []  # Scripts / commands to run before starting the app\n",
    "\n",
    "# [build]  # Uncomment to add a build stage\n",
    "\n",
    "[prod]\n",
    "host='0.0.0.0'\n",
    "port=5001\n",
    "reload=false\n",
    "# scripts = []  # Scripts / commands to run before starting the app\n",
    "\"\"\""
   ]
  },
  {
   "cell_type": "code",
   "execution_count": 8,
   "id": "34cf59fa",
   "metadata": {},
   "outputs": [],
   "source": [
    "#| export\n",
    "@call_parse\n",
    "def fasthtml(\n",
    "    mode:str, # dev, prod or custom mode (in fasthtml.toml)\n",
    "    appname:str # Name of the module and app instance to be served. e.g. main.py:app\n",
    "):\n",
    "    \"\"\"Run FastHTML app in a specific mode.\"\"\"\n",
    "    cfg = toml.loads(default_cfg())\n",
    "    cfg_path = Path('fasthtml.toml')\n",
    "    if cfg_path.exists():\n",
    "        for sec, val in toml.load(cfg_path).items():\n",
    "            s=cfg.get(sec)\n",
    "            if s and isinstance(s, dict):\n",
    "                s.update(val)\n",
    "            else:\n",
    "                cfg[sec] = val\n",
    "        #cfg.update(toml.load(cfg_path))\n",
    "    section = cfg.get(mode)\n",
    "    if not section: print(f'section {mode} does not exist! Use dev, prod or add a custom section in fasthtml.toml')\n",
    "    if commands:=section.get('scripts'):\n",
    "        for command in commands:\n",
    "            os.system(command)\n",
    "    pprint(cfg)\n",
    "    if section.get('start', True):\n",
    "        print(str(Path().resolve()))\n",
    "        sys.path.append(str(Path().resolve()))\n",
    "        host = section.get('host', 'http://localhost')\n",
    "        port = int(section.get('port', 5001))\n",
    "        reload = section.get('reload', True)\n",
    "        reload_includes = section.get('reload_includes', None)\n",
    "        reload_excludes = section.get('reload_excludes', None)\n",
    "        print(f'Starting {appname}')\n",
    "        print(f'Link: {host}:{port}')\n",
    "        uvicorn.run(f'{appname}', host=host, port=port, reload=reload, reload_includes=reload_includes, reload_excludes=reload_excludes)"
   ]
  },
  {
   "cell_type": "markdown",
   "id": "474e14b4",
   "metadata": {},
   "source": [
    "## Export -"
   ]
  },
  {
   "cell_type": "code",
   "execution_count": null,
   "id": "d211e8e2",
   "metadata": {},
   "outputs": [],
   "source": [
    "#|hide\n",
    "import nbdev; nbdev.nbdev_export()"
   ]
  },
  {
   "cell_type": "code",
   "execution_count": null,
   "id": "7b1d43a0",
   "metadata": {},
   "outputs": [],
   "source": []
  }
 ],
 "metadata": {
  "kernelspec": {
   "display_name": "python3",
   "language": "python",
   "name": "python3"
  },
  "language_info": {
   "codemirror_mode": {
    "name": "ipython",
    "version": 3
   },
   "file_extension": ".py",
   "mimetype": "text/x-python",
   "name": "python",
   "nbconvert_exporter": "python",
   "pygments_lexer": "ipython3",
   "version": "3.10.12"
  }
 },
 "nbformat": 4,
 "nbformat_minor": 5
}
